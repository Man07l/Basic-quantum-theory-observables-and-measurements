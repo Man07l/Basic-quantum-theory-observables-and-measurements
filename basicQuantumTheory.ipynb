{
 "cells": [
  {
   "cell_type": "markdown",
   "id": "f0e6f330-d444-413d-a2c2-d7a2758fa836",
   "metadata": {},
   "source": [
    "# Basic quantum theory, observables and measurements"
   ]
  },
  {
   "cell_type": "markdown",
   "id": "ac10d1b0-8551-4764-91ed-c9a3136860e0",
   "metadata": {},
   "source": [
    "## First quantum system"
   ]
  },
  {
   "cell_type": "markdown",
   "id": "508f2840-c790-42b7-acff-a3fa1bc9fcc6",
   "metadata": {},
   "source": [
    "The system consists of a particle confined to a discrete set of positions on a line. The simulator must allow specifying the number of positions and a state ket vector assigning the amplitudes.\n",
    "\n",
    "1. The system must calculate the probability of finding it at a particular position.\n",
    "\n",
    "2. If the system is given another vector Ket, it must look for the probability of transitioning from the first vector to the second."
   ]
  },
  {
   "cell_type": "code",
   "execution_count": 1,
   "id": "9fb7fbb6-9c74-4051-8547-29a2c06be149",
   "metadata": {},
   "outputs": [
    {
     "name": "stdout",
     "output_type": "stream",
     "text": [
      "Probability : 0.05263157894736842\n",
      "Transition probability : 0.9999999999999996\n"
     ]
    }
   ],
   "source": [
    "import numpy as np\n",
    "\n",
    "def probability(position,vector):\n",
    "    summation = 0\n",
    "    for i in vector:\n",
    "        summation += (np.abs(i))**2\n",
    "        \n",
    "    return ((np.abs(vector[position]))**2)/summation\n",
    "    \n",
    "def transition(vector1,vector2):\n",
    "    \n",
    "    vector1 = vector1/np.linalg.norm(vector1)\n",
    "    vector2 = vector2/np.linalg.norm(vector2)\n",
    "\n",
    "    return (abs(np.dot(vector2.T.conj(),vector1)))**2\n",
    "    \n",
    "\n",
    "def main():\n",
    "    v = np.array([-3-1j,-2j,-1j,2])\n",
    "    print(\"Probability :\", probability(2,v))\n",
    "\n",
    "    v1 = np.array([1,-1j])\n",
    "    v2 = np.array([1j,1])\n",
    "    print(\"Transition probability :\", transition(v1,v2))\n",
    "    \n",
    "main()"
   ]
  },
  {
   "cell_type": "markdown",
   "id": "49252f65-b765-4eaa-867d-9c124f3c0f36",
   "metadata": {},
   "source": [
    "## Complete the programming  4"
   ]
  },
  {
   "cell_type": "markdown",
   "id": "c100fa64-3c5e-4b94-bf99-a92522eba1f4",
   "metadata": {},
   "source": [
    "1. Transition amplitude. The system can receive two vectors and calculate the probability of transitioning from one to the other after making the observation.\n"
   ]
  },
  {
   "cell_type": "code",
   "execution_count": 17,
   "id": "eabc68d8-dd53-4c39-a717-da02203af40d",
   "metadata": {},
   "outputs": [
    {
     "name": "stdout",
     "output_type": "stream",
     "text": [
      "Transition probability : 0.9999999999999996\n"
     ]
    }
   ],
   "source": [
    "def transition(vector1,vector2):\n",
    "    \n",
    "    vector1 = vector1/np.linalg.norm(vector1)\n",
    "    vector2 = vector2/np.linalg.norm(vector2)\n",
    "\n",
    "    return (abs(np.dot(vector2.T.conj(),vector1)))**2\n",
    "    \n",
    "\n",
    "def main():\n",
    "    v1 = np.array([1,-1j])\n",
    "    v2 = np.array([1j,1])\n",
    "    print(\"Transition probability :\", transition(v1,v2))\n",
    "    \n",
    "main()"
   ]
  },
  {
   "cell_type": "markdown",
   "id": "b0af9ebe-742c-4ccf-9bf7-5f3097d94db9",
   "metadata": {},
   "source": [
    "2. Now with a matrix that describes an observable and a ket vector, the system checks that the matrix is Hermitian, and if it is, it calculates the mean and variance of the observable in the given state."
   ]
  },
  {
   "cell_type": "code",
   "execution_count": 15,
   "id": "45e720bc-1adf-4435-8642-7da45889d883",
   "metadata": {},
   "outputs": [
    {
     "name": "stdout",
     "output_type": "stream",
     "text": [
      "Mean: (2.5000000000000004+0j)\n",
      "Variance: (0.25+0j)\n"
     ]
    }
   ],
   "source": [
    "import numpy as np\n",
    "\n",
    "def hermitian_check(mat):\n",
    "    conj_mat = np.conjugate(np.transpose(mat))\n",
    "    return np.allclose(mat,conj_mat)\n",
    "\n",
    "def mean(ob,st):\n",
    "    if hermitian_check(ob):\n",
    "        return np.dot(np.conjugate(np.transpose(np.dot(ob,st))),st)\n",
    "    else:\n",
    "        return \"The matrix is not Hermitian\"\n",
    "\n",
    "def variance(ob,st):\n",
    "    if hermitian_check(ob):\n",
    "        identity = np.array([[1,0],[0,1]])\n",
    "        delta = ob - np.dot(mean(ob,st),identity)\n",
    "        delta2 = np.dot(delta,delta) \n",
    "        return np.dot(np.conjugate(np.transpose(np.dot(delta2,st))),st)\n",
    "    else:\n",
    "        return \"The matrix is not Hermitian\"\n",
    "    \n",
    "def main():\n",
    "    o = np.array([[1,-1j],[1j,2]])\n",
    "    s = np.array([(np.sqrt(2)/2),(np.sqrt(2)/2)*1j])\n",
    "    print(\"Mean:\", mean(o,s))\n",
    "    print(\"Variance:\", variance(o,s))\n",
    "main()"
   ]
  },
  {
   "cell_type": "markdown",
   "id": "64087911-b497-4435-83d5-3002962a3a98",
   "metadata": {},
   "source": [
    "3. The system calculates the eigenvalues ​​of the observable and the probability that the system transitions to one of the eigenvectors after the observation."
   ]
  },
  {
   "cell_type": "code",
   "execution_count": 38,
   "id": "223d31d1-b77f-4ca0-a922-cab3121fcf79",
   "metadata": {},
   "outputs": [
    {
     "name": "stdout",
     "output_type": "stream",
     "text": [
      "Eigen values: [0.38196601+0.j 2.61803399+0.j]\n",
      "Eigen vectors: [0.38196601+0.j 2.61803399+0.j]\n",
      "Transition probability: 0.052786404500042135\n"
     ]
    }
   ],
   "source": [
    "import numpy as np\n",
    "\n",
    "def t_probability(ket,ei_v):\n",
    "    ket = ket/np.linalg.norm(ket)\n",
    "    ei_v = ei_v/np.linalg.norm(ei_v)\n",
    "    return (abs(np.dot(np.conjugate(np.transpose(ei_v)),ket)))**2\n",
    "    \n",
    "def main():\n",
    "    obs = np.array([[1,-1j],[1j,2]])\n",
    "    ket = np.array([(np.sqrt(2)/2),(np.sqrt(2)/2)*1j])\n",
    "    e_val,e_vec = np.linalg.eig(obs)\n",
    "    e_vec = np.transpose(e_vec)\n",
    "    print(\"Eigen values:\",e_val)\n",
    "    print(\"Eigen vectors:\",e_val)\n",
    "    print(\"Transition probability:\",t_probability(ket,e_vec[0]))\n",
    "main()"
   ]
  },
  {
   "cell_type": "markdown",
   "id": "bac2b6a8-01a6-45d3-b2ad-67bc16ca09ef",
   "metadata": {},
   "source": [
    "4. The dynamics of the system is considered. Now with a series of matrices Un the system calculates the final state from an initial state."
   ]
  },
  {
   "cell_type": "code",
   "execution_count": 37,
   "id": "9eb74ea5-d41d-41d7-a98f-d73806a2966b",
   "metadata": {},
   "outputs": [
    {
     "name": "stdout",
     "output_type": "stream",
     "text": [
      "Initial state: [1 0 0 0]\n",
      "Final state: [ 0.        +0.j         -0.70710678+0.70710678j  0.        +0.j\n",
      "  0.        +0.j        ]\n"
     ]
    }
   ],
   "source": [
    "import numpy as np\n",
    "    \n",
    "def main():\n",
    "    #System: quantum billiard ball modified (Example 4.4.2)\n",
    "    ket = np.array([1,0,0,0])\n",
    "    Un = np.array([[0,1/np.sqrt(2),1/np.sqrt(2),0],\n",
    "                   [1j/np.sqrt(2),0,0,1/np.sqrt(2)],\n",
    "                   [1/np.sqrt(2),0,0,1j/np.sqrt(2)],\n",
    "                   [0,1/np.sqrt(2),-1/np.sqrt(2),0]])\n",
    "    \n",
    "    #Final state after three time steps\n",
    "    \n",
    "    print(\"Initial state:\",ket)\n",
    "    print(\"Final state:\",np.dot(Un,np.dot(Un,np.dot(Un,ket))))\n",
    "main()"
   ]
  },
  {
   "cell_type": "markdown",
   "id": "87a96a08-b263-40ec-9d80-8a7969646f65",
   "metadata": {},
   "source": [
    "## Do the following problems and include them as examples"
   ]
  },
  {
   "cell_type": "markdown",
   "id": "f63febaf-c896-491f-9c9e-850ee5060375",
   "metadata": {},
   "source": [
    "Model the problems in your library"
   ]
  },
  {
   "cell_type": "markdown",
   "id": "6c94877f-7130-4a0a-8651-82062ee56659",
   "metadata": {},
   "source": [
    "### Exercise 4.3.1 \n",
    "Find all the possible states the system described in Exercise 4.2.2\n",
    "can transition into after a measurement has been carried out.\n",
    "\n",
    "System: $$ Sx = \\frac{h}{2} \\begin{bmatrix} 0 & -i \\\\ i & 0 \\end{bmatrix} $$  $$ \\psi = \\begin{bmatrix} 1 \\\\ 0 \\end{bmatrix} $$"
   ]
  },
  {
   "cell_type": "code",
   "execution_count": 1,
   "id": "13333a49-f1e8-4784-a0d6-934923ee6702",
   "metadata": {},
   "outputs": [
    {
     "name": "stdout",
     "output_type": "stream",
     "text": [
      "Eigen values: [ 1.+0.j -1.+0.j]\n",
      "Eigen vectors: [ 1.+0.j -1.+0.j]\n",
      "Transition probability: 0.4999999999999999\n"
     ]
    }
   ],
   "source": [
    "import numpy as np\n",
    "\n",
    "def states(ket,ei_v):\n",
    "    ket = ket/np.linalg.norm(ket)\n",
    "    ei_v = ei_v/np.linalg.norm(ei_v)\n",
    "    return (abs(np.dot(np.conjugate(np.transpose(ei_v)),ket)))**2\n",
    "    \n",
    "def main():\n",
    "    h = 6,63*10**-36\n",
    "    obs = np.array([[0,-1j],[1j,0]])\n",
    "    ket = np.array([1,0])\n",
    "    e_val,e_vec = np.linalg.eig(obs)\n",
    "    e_vec = np.transpose(e_vec)\n",
    "    print(\"Eigen values:\",e_val)\n",
    "    print(\"Eigen vectors:\",e_val)\n",
    "    print(\"Transition probability:\",t_probability(ket,e_vec[0]))\n",
    "main()"
   ]
  },
  {
   "cell_type": "code",
   "execution_count": null,
   "id": "1373e0ea-8229-41e9-9e86-1be7714db4d1",
   "metadata": {},
   "outputs": [],
   "source": []
  }
 ],
 "metadata": {
  "kernelspec": {
   "display_name": "Python 3 (ipykernel)",
   "language": "python",
   "name": "python3"
  },
  "language_info": {
   "codemirror_mode": {
    "name": "ipython",
    "version": 3
   },
   "file_extension": ".py",
   "mimetype": "text/x-python",
   "name": "python",
   "nbconvert_exporter": "python",
   "pygments_lexer": "ipython3",
   "version": "3.11.7"
  }
 },
 "nbformat": 4,
 "nbformat_minor": 5
}
