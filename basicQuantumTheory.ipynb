{
 "cells": [
  {
   "cell_type": "markdown",
   "id": "f0e6f330-d444-413d-a2c2-d7a2758fa836",
   "metadata": {},
   "source": [
    "# Basic quantum theory, observables and measurements"
   ]
  },
  {
   "cell_type": "markdown",
   "id": "ac10d1b0-8551-4764-91ed-c9a3136860e0",
   "metadata": {},
   "source": [
    "## First quantum system"
   ]
  },
  {
   "cell_type": "markdown",
   "id": "508f2840-c790-42b7-acff-a3fa1bc9fcc6",
   "metadata": {},
   "source": [
    "The system consists of a particle confined to a discrete set of positions on a line. The simulator must allow specifying the number of positions and a state ket vector assigning the amplitudes.\n",
    "\n",
    "1. The system must calculate the probability of finding it at a particular position.\n",
    "\n",
    "2. If the system is given another vector Ket, it must look for the probability of transitioning from the first vector to the second."
   ]
  },
  {
   "cell_type": "code",
   "execution_count": 9,
   "id": "9fb7fbb6-9c74-4051-8547-29a2c06be149",
   "metadata": {},
   "outputs": [
    {
     "name": "stdout",
     "output_type": "stream",
     "text": [
      "Probability : 0.05263157894736842\n",
      "Transition : -2j\n"
     ]
    }
   ],
   "source": [
    "import numpy as np\n",
    "\n",
    "def probability(position,vector):\n",
    "    summation = 0\n",
    "    for i in vector:\n",
    "        summation += (np.abs(i))**2\n",
    "        \n",
    "    return ((np.abs(vector[position]))**2)/summation\n",
    "\n",
    "def transition(vector1,vector2):\n",
    "    norm_v1 = \n",
    "    return np.dot(np.conjugate((np.transpose(vector2))),vector1)\n",
    "\n",
    "    \n",
    "\n",
    "def main():\n",
    "    v = [-3-1j,-2j,-1j,2]\n",
    "    print(\"Probability :\", probability(2,v))\n",
    "\n",
    "    v1 = [1,-1j]\n",
    "    v2 = [1j,1]\n",
    "    print(\"Transition :\", transition(v1,v2))\n",
    "    \n",
    "main()\n",
    "\n",
    "\n",
    "\n",
    "\n",
    "\n"
   ]
  },
  {
   "cell_type": "markdown",
   "id": "49252f65-b765-4eaa-867d-9c124f3c0f36",
   "metadata": {},
   "source": [
    "## Complete the programming challenges in chapter 4"
   ]
  },
  {
   "cell_type": "markdown",
   "id": "c100fa64-3c5e-4b94-bf99-a92522eba1f4",
   "metadata": {},
   "source": [
    "1. Transition amplitude. The system can receive two vectors and calculate the probability of transitioning from one to the other after making the observation.\n"
   ]
  },
  {
   "cell_type": "code",
   "execution_count": null,
   "id": "eabc68d8-dd53-4c39-a717-da02203af40d",
   "metadata": {},
   "outputs": [],
   "source": []
  },
  {
   "cell_type": "markdown",
   "id": "b0af9ebe-742c-4ccf-9bf7-5f3097d94db9",
   "metadata": {},
   "source": [
    "2. Now with a matrix that describes an observable and a ket vector, the system checks that the matrix is Hermitian, and if it is, it calculates the mean and variance of the observable in the given state."
   ]
  },
  {
   "cell_type": "code",
   "execution_count": null,
   "id": "45e720bc-1adf-4435-8642-7da45889d883",
   "metadata": {},
   "outputs": [],
   "source": []
  },
  {
   "cell_type": "markdown",
   "id": "64087911-b497-4435-83d5-3002962a3a98",
   "metadata": {},
   "source": [
    "3. The system calculates the eigenvalues ​​of the observable and the probability that the system transitions to one of the eigenvectors after the observation."
   ]
  },
  {
   "cell_type": "code",
   "execution_count": null,
   "id": "223d31d1-b77f-4ca0-a922-cab3121fcf79",
   "metadata": {},
   "outputs": [],
   "source": []
  },
  {
   "cell_type": "markdown",
   "id": "bac2b6a8-01a6-45d3-b2ad-67bc16ca09ef",
   "metadata": {},
   "source": [
    "4. The dynamics of the system is considered. Now with a series of matrices Un the system calculates the final state from an initial state."
   ]
  },
  {
   "cell_type": "code",
   "execution_count": null,
   "id": "9eb74ea5-d41d-41d7-a98f-d73806a2966b",
   "metadata": {},
   "outputs": [],
   "source": []
  }
 ],
 "metadata": {
  "kernelspec": {
   "display_name": "Python 3 (ipykernel)",
   "language": "python",
   "name": "python3"
  },
  "language_info": {
   "codemirror_mode": {
    "name": "ipython",
    "version": 3
   },
   "file_extension": ".py",
   "mimetype": "text/x-python",
   "name": "python",
   "nbconvert_exporter": "python",
   "pygments_lexer": "ipython3",
   "version": "3.11.7"
  }
 },
 "nbformat": 4,
 "nbformat_minor": 5
}
